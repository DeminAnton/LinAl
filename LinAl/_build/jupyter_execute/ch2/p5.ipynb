{
 "cells": [
  {
   "cell_type": "markdown",
   "metadata": {},
   "source": [
    "# Обратная матрица\n",
    "\n",
    "Матрица $\\mathbf{A}$ называется **обратимой**, если существует такая матрица $\\mathbf{A}^{-1}$, что\n",
    "\n",
    "$$\\mathbf{A} \\mathbf{A}^{-1} = \\mathbf{A}^{-1} \\mathbf{A} = \\mathbf{I}.$$\n",
    "\n",
    "Здесь $\\mathbf{I}$ — это **единичная матрица**, которая имеет такие свойства:\n",
    "- Она является квадратной (количество строк равно количеству столбцов).\n",
    "- Все элементы на главной диагонали равны $1$, а остальные элементы равны $0$. Например, для матриц размером $2 \\times 2$ и $3 \\times 3$ это выглядит так:\n",
    "  $$\n",
    "  \\mathbf{I}_{2 \\times 2} = \\begin{bmatrix} \n",
    "  1 & 0 \\\\ \n",
    "  0 & 1 \n",
    "  \\end{bmatrix}, \\quad\n",
    "  \\mathbf{I}_{3 \\times 3} = \\begin{bmatrix} \n",
    "  1 & 0 & 0 \\\\ \n",
    "  0 & 1 & 0 \\\\ \n",
    "  0 & 0 & 1 \n",
    "  \\end{bmatrix}.\n",
    "  $$\n",
    "- Умножение любой матрицы $\\mathbf{A}$ на единичную матрицу $\\mathbf{I}$ не изменяет её:  \n",
    "  $$\n",
    "  \\mathbf{A} \\cdot \\mathbf{I} = \\mathbf{I} \\cdot \\mathbf{A} = \\mathbf{A}.\n",
    "  $$\n",
    "\n",
    "По поводу обратимости можно сделать следующие замечания:\n",
    "1. Если матрица обратима, то в процессе приведения её к диагональному виду все опорные элементы будут находиться на диагонали.\n",
    "2. Обратная матрица единственна.\n",
    "3. Уравнение $\\mathbf{A}\\mathbf{x} = \\mathbf{b}$ имеет единственное решение:  \n",
    "   \n",
    "   $$\n",
    "   \\mathbf{A}\\mathbf{x} = \\mathbf{b} \\Longleftrightarrow \\mathbf{A}^{-1}\\mathbf{A}\\mathbf{x} = \\mathbf{A}^{-1}\\mathbf{b} \\Longleftrightarrow \\mathbf{I}\\mathbf{x} = \\mathbf{A}^{-1}\\mathbf{b} \\Longleftrightarrow \\mathbf{x} = \\mathbf{A}^{-1}\\mathbf{b}.\n",
    "   $$\n",
    "\n",
    "4. Если существует ненулевой вектор $\\mathbf{x}$, такой что $\\mathbf{A}\\mathbf{x} = \\mathbf{0}$, то матрица $\\mathbf{A}$ необратима."
   ]
  },
  {
   "cell_type": "markdown",
   "metadata": {},
   "source": [
    "## Обратная матрица произведения матриц\n",
    "Пускай некая матрица получается произведением:\n",
    "$\\mathbf{A} \\mathbf{B}$\n",
    "Тогда вот такое выражение должно быть верно:\n",
    "\n",
    "$$(\\mathbf{A} \\mathbf{B})^{-1} (\\mathbf{A} \\mathbf{B}) = \\mathbf{I}$$\n",
    "\n",
    "Если умножить справа на $\\mathbf{B}^{-1} \\mathbf{A}^{-1}$ обе части:\n",
    "\n",
    "$$(\\mathbf{A} \\mathbf{B})^{-1} (\\mathbf{A} \\mathbf{B}) \\mathbf{B}^{-1} \\mathbf{A}^{-1} = \\mathbf{I} \\mathbf{B}^{-1} \\mathbf{A}^{-1}$$\n",
    "\n",
    "И учесть что умножение матриц ассциативно (закон про скобки), сокращая попарно множители:\n",
    "\n",
    "$$(\\mathbf{A} \\mathbf{B})^{-1} \\mathbf{I}  = \\mathbf{B}^{-1} \\mathbf{A}^{-1}$$\n",
    "\n",
    "$$(\\mathbf{A} \\mathbf{B})^{-1}   = \\mathbf{B}^{-1} \\mathbf{A}^{-1}$$\n",
    "\n",
    "Получается, что обратная матрица произведения при раскрытии скобок меняет порядок умножения, прямо как транспонирование!"
   ]
  },
  {
   "cell_type": "markdown",
   "metadata": {},
   "source": [
    "А как на счет одновременного транспонирования и обращения матрицы?\n",
    "Если у матрицы есть обратная, тогда:\n",
    "\n",
    "$$\\mathbf{A}^{-1} \\mathbf{A} = \\mathbf{I}.$$\n",
    "\n",
    "Транспонируем обе части:\n",
    "\n",
    "$$(\\mathbf{A}^{-1} \\mathbf{A})^T = \\mathbf{I}^T,$$\n",
    "\n",
    "но транспонирование единичной матрицы она и есть, следоваетльно:\n",
    "\n",
    "$$\\mathbf{A}^T (\\mathbf{A}^{-1})^T = \\mathbf{I}.$$\n",
    "\n",
    "Теперь это все можно умножить на $(\\mathbf{A}^T)^{-1}$ слева, после сокращения сомножителей получиться, что:\n",
    "\n",
    "$$(\\mathbf{A}^{-1})^T = (\\mathbf{A}^T)^{-1}.$$\n",
    "\n",
    "\n"
   ]
  },
  {
   "cell_type": "markdown",
   "metadata": {},
   "source": [
    "**Нахождение обратной матрицы элиминацией**:\n",
    "\n",
    "Если у матрицы есть обратная:\n",
    "\n",
    "$$\\mathbf{A} \\mathbf{A}^{-1} = \\mathbf{I},$$\n",
    "\n",
    "единичную матрицу можно представить как совокупность вектор-столбцов вида $e_i$, где на $i$-ой строке будет единица, а остальные элементы равны нулю. Обратную матрицу можно представить в виде неизвестных вектор-столбцов.\n",
    "\n",
    "$$\\mathbf{A}\n",
    "\\begin{bmatrix} \n",
    "\\mathbf{x}_1 & \\mathbf{x}_2 & \\mathbf{x}_3\n",
    "\\end{bmatrix}\n",
    "= \n",
    "\\begin{bmatrix} \n",
    "\\mathbf{e}_1 & \\mathbf{e}_2 & \\mathbf{e}_3\n",
    "\\end{bmatrix}.\n",
    "$$\n",
    "\n",
    "Всё это можно записать как три системы уравнений вида:\n",
    "\n",
    "$$\\mathbf{A}\n",
    "\\mathbf{x}_i \n",
    "= \n",
    "\\mathbf{e}_i,\n",
    "$$\n",
    "\n",
    "но решать их можно сразу все. Для этого из исходной матрицы создаём расширенную, как и в случае обычной элиминации, но вместо вектора свободных коэффициентов приписываем матрицу из вектор-столбцов $\\mathbf{e}_i$, т.е. единичную матрицу:\n",
    "\n",
    "$$\n",
    "\\begin{bmatrix} \n",
    "\\mathbf{A}&|&\\mathbf{I}\n",
    "\\end{bmatrix}.\n",
    "$$\n",
    "\n",
    "Приведя матрицу $\\mathbf{A}$ преобразованиями к $\\mathbf{I}$, в левой части получим обратную матрицу:\n",
    "\n",
    "$$\n",
    "\\begin{bmatrix} \n",
    "\\mathbf{A}^{-1} \\mathbf{A}&|&\\mathbf{A}^{-1}  \\mathbf{I}\n",
    "\\end{bmatrix} = \n",
    "\\begin{bmatrix} \n",
    "\\mathbf{I}&|&\\mathbf{A}^{-1}\n",
    "\\end{bmatrix}.\n",
    "$$"
   ]
  },
  {
   "cell_type": "markdown",
   "metadata": {},
   "source": [
    "Попробуем найти обратную матрицу при помощи преобразований:"
   ]
  },
  {
   "cell_type": "code",
   "execution_count": 1,
   "metadata": {
    "tags": [
     "hide-input"
    ]
   },
   "outputs": [],
   "source": [
    "import numpy as np\n",
    "\n",
    "def row_swap(A: np.ndarray, k: int, l: int) -> np.ndarray:\n",
    "    \"\"\"\n",
    "    Swap two rows in a NumPy array.\n",
    "\n",
    "    Parameters\n",
    "    ----------\n",
    "    A : ndarray\n",
    "        A NumPy array of shape (m, n), where `m` is the number of rows \n",
    "        and `n` is the number of columns.\n",
    "    k : int\n",
    "        The index of the first row to be swapped (0-based indexing).\n",
    "    l : int\n",
    "        The index of the second row to be swapped (0-based indexing).\n",
    "\n",
    "    Returns\n",
    "    -------\n",
    "    B : ndarray\n",
    "        A new NumPy array with rows `k` and `l` swapped. The input array `A` \n",
    "        remains unchanged.\n",
    "\n",
    "    Notes\n",
    "    -----\n",
    "    The operation is performed by creating a copy of the input array to \n",
    "    ensure the original array is not modified.\n",
    "\n",
    "    Examples\n",
    "    --------\n",
    "    >>> import numpy as np\n",
    "    >>> A = np.array([[1, 2], [3, 4]])\n",
    "    >>> row_swap(A, 0, 1)\n",
    "    array([[3., 4.],\n",
    "           [1., 2.]])\n",
    "    \"\"\"\n",
    "    m = A.shape[0]  # m is the number of rows in A\n",
    "    n = A.shape[1]  # n is the number of columns in A\n",
    "    \n",
    "    B = np.copy(A).astype('float64')\n",
    "        \n",
    "    for j in range(n):\n",
    "        temp = B[k][j]\n",
    "        B[k][j] = B[l][j]\n",
    "        B[l][j] = temp\n",
    "        \n",
    "    return B\n",
    "\n",
    "\n",
    "def row_scale(A: np.ndarray, k: int, scale: float) -> np.ndarray:\n",
    "    \"\"\"\n",
    "    Scale a row of a NumPy array by a given factor.\n",
    "\n",
    "    Parameters\n",
    "    ----------\n",
    "    A : ndarray\n",
    "        A NumPy array of shape (m, n), where `m` is the number of rows \n",
    "        and `n` is the number of columns.\n",
    "    k : int\n",
    "        The index of the row to be scaled (0-based indexing).\n",
    "    scale : float\n",
    "        The factor by which to scale the entries of row `k`.\n",
    "\n",
    "    Returns\n",
    "    -------\n",
    "    B : ndarray\n",
    "        A new NumPy array with row `k` scaled by `scale`. The input array `A` \n",
    "        remains unchanged.\n",
    "\n",
    "    Notes\n",
    "    -----\n",
    "    The operation is performed by creating a copy of the input array to \n",
    "    ensure the original array is not modified.\n",
    "\n",
    "    Examples\n",
    "    --------\n",
    "    >>> import numpy as np\n",
    "    >>> A = np.array([[1, 2], [3, 4]])\n",
    "    >>> row_scale(A, 1, 2)\n",
    "    array([[ 1.,  2.],\n",
    "           [ 6.,  8.]])\n",
    "    \"\"\"\n",
    "    m = A.shape[0]  # m is the number of rows in A\n",
    "    n = A.shape[1]  # n is the number of columns in A\n",
    "    \n",
    "    B = np.copy(A).astype('float64')\n",
    "\n",
    "    for j in range(n):\n",
    "        B[k][j] *= scale\n",
    "        \n",
    "    return B\n",
    "\n",
    "\n",
    "def row_add(A: np.ndarray, k: int, l: int, scale: float) -> np.ndarray:\n",
    "    \"\"\"\n",
    "    Add a scaled version of one row to another in a NumPy array.\n",
    "\n",
    "    Parameters\n",
    "    ----------\n",
    "    A : ndarray\n",
    "        A NumPy array of shape (m, n), where `m` is the number of rows \n",
    "        and `n` is the number of columns.\n",
    "    k : int\n",
    "        The index of the row to be scaled and added (0-based indexing).\n",
    "    l : int\n",
    "        The index of the row to be modified (0-based indexing).\n",
    "    scale : float\n",
    "        The factor by which to scale the entries of row `k` before adding \n",
    "        them to row `l`.\n",
    "\n",
    "    Returns\n",
    "    -------\n",
    "    B : ndarray\n",
    "        A new NumPy array with row `l` modified. The values of row `l` \n",
    "        will be updated by adding the values of row `k`, scaled by `scale`. \n",
    "        The input array `A` remains unchanged.\n",
    "\n",
    "    Notes\n",
    "    -----\n",
    "    The operation is performed by creating a copy of the input array to \n",
    "    ensure the original array is not modified.\n",
    "\n",
    "    Examples\n",
    "    --------\n",
    "    >>> import numpy as np\n",
    "    >>> A = np.array([[1, 2], [3, 4]])\n",
    "    >>> row_add(A, 0, 1, 2)\n",
    "    array([[ 1.,  2.],\n",
    "           [ 5.,  8.]])\n",
    "    \"\"\"\n",
    "    m = A.shape[0]  # m is the number of rows in A\n",
    "    n = A.shape[1]  # n is the number of columns in A\n",
    "    \n",
    "    B = np.copy(A).astype('float64')\n",
    "        \n",
    "    for j in range(n):\n",
    "        B[l][j] += B[k][j] * scale\n",
    "        \n",
    "    return B"
   ]
  },
  {
   "cell_type": "code",
   "execution_count": 2,
   "metadata": {},
   "outputs": [
    {
     "data": {
      "text/plain": [
       "array([[ 2., -2.,  0.,  1.,  0.,  0.],\n",
       "       [ 1.,  4.,  1.,  0.,  1.,  0.],\n",
       "       [ 2.,  4.,  8.,  0.,  0.,  1.]])"
      ]
     },
     "execution_count": 2,
     "metadata": {},
     "output_type": "execute_result"
    }
   ],
   "source": [
    "A = np.array([\n",
    "    [2, -2, 0],\n",
    "    [1, 4, 1],\n",
    "    [2, 4, 8]\n",
    "])\n",
    "#Расширенная матрица, образованная 'пристыковкой' единичной матрицы справа.\n",
    "Aug = np.hstack((A, np.identity(3)))\n",
    "Aug"
   ]
  },
  {
   "cell_type": "code",
   "execution_count": 3,
   "metadata": {},
   "outputs": [
    {
     "data": {
      "text/plain": [
       "array([[ 1. , -1. ,  0. ,  0.5,  0. ,  0. ],\n",
       "       [ 0. ,  5. ,  1. , -0.5,  1. ,  0. ],\n",
       "       [ 0. ,  6. ,  8. , -1. ,  0. ,  1. ]])"
      ]
     },
     "execution_count": 3,
     "metadata": {},
     "output_type": "execute_result"
    }
   ],
   "source": [
    "Aug = row_add(Aug, 0, 1, -0.5)\n",
    "Aug = row_add(Aug, 0, 2, -1)\n",
    "Aug = row_scale(Aug, 0, 0.5)\n",
    "Aug"
   ]
  },
  {
   "cell_type": "code",
   "execution_count": 4,
   "metadata": {},
   "outputs": [
    {
     "data": {
      "text/plain": [
       "array([[ 1. , -1. ,  0. ,  0.5,  0. ,  0. ],\n",
       "       [ 0. ,  1. ,  0.2, -0.1,  0.2,  0. ],\n",
       "       [ 0. ,  0. ,  6.8, -0.4, -1.2,  1. ]])"
      ]
     },
     "execution_count": 4,
     "metadata": {},
     "output_type": "execute_result"
    }
   ],
   "source": [
    "Aug = row_scale(Aug, 1, 1/5.0)\n",
    "Aug = row_add(Aug, 1, 2, -6)\n",
    "Aug"
   ]
  },
  {
   "cell_type": "code",
   "execution_count": 5,
   "metadata": {},
   "outputs": [
    {
     "data": {
      "text/plain": [
       "array([[ 1.        , -1.        ,  0.        ,  0.5       ,  0.        ,\n",
       "         0.        ],\n",
       "       [ 0.        ,  1.        ,  0.        , -0.08823529,  0.23529412,\n",
       "        -0.02941176],\n",
       "       [ 0.        ,  0.        ,  1.        , -0.05882353, -0.17647059,\n",
       "         0.14705882]])"
      ]
     },
     "execution_count": 5,
     "metadata": {},
     "output_type": "execute_result"
    }
   ],
   "source": [
    "Aug = row_scale(Aug, 2, 1/6.8)\n",
    "Aug = row_add(Aug, 2, 1, -0.2)\n",
    "Aug"
   ]
  },
  {
   "cell_type": "code",
   "execution_count": 6,
   "metadata": {},
   "outputs": [
    {
     "name": "stdout",
     "output_type": "stream",
     "text": [
      "Исходная матрица:\n",
      "[[ 2 -2  0]\n",
      " [ 1  4  1]\n",
      " [ 2  4  8]]\n",
      "Обратная матрица:\n",
      "[[ 0.5         0.          0.        ]\n",
      " [-0.08823529  0.23529412 -0.02941176]\n",
      " [-0.05882353 -0.17647059  0.14705882]]\n",
      "Произведение исходной и обратной матриц:\n",
      "[[ 1.00000000e+00 -1.00000000e+00  0.00000000e+00]\n",
      " [ 6.93889390e-18  1.00000000e+00  0.00000000e+00]\n",
      " [ 0.00000000e+00 -1.11022302e-16  1.00000000e+00]]\n"
     ]
    }
   ],
   "source": [
    "A_inv = Aug[:, 3:]\n",
    "print(\"Исходная матрица:\")\n",
    "print(A)\n",
    "print(\"Обратная матрица:\")\n",
    "print(A_inv)\n",
    "print(\"Произведение исходной и обратной матриц:\")\n",
    "print(A_inv @ A)"
   ]
  },
  {
   "cell_type": "markdown",
   "metadata": {},
   "source": [
    "Видно, что произведение дало почти единичную матрицу, но ошибки округления оставили близкие к нулю, но не нулевые элементы вы -16  и -18 степенях."
   ]
  }
 ],
 "metadata": {
  "kernelspec": {
   "display_name": "linal-tUqGrMtq-py3.12",
   "language": "python",
   "name": "python3"
  },
  "language_info": {
   "codemirror_mode": {
    "name": "ipython",
    "version": 3
   },
   "file_extension": ".py",
   "mimetype": "text/x-python",
   "name": "python",
   "nbconvert_exporter": "python",
   "pygments_lexer": "ipython3",
   "version": "3.12.3"
  }
 },
 "nbformat": 4,
 "nbformat_minor": 2
}